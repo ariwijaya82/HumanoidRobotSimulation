{
 "cells": [
  {
   "cell_type": "code",
   "execution_count": 9,
   "id": "5b394ee3",
   "metadata": {},
   "outputs": [],
   "source": [
    "from spatialmath.base import *\n",
    "from spatialmath import *"
   ]
  },
  {
   "cell_type": "code",
   "execution_count": 4,
   "id": "f3349e79",
   "metadata": {},
   "outputs": [
    {
     "name": "stdout",
     "output_type": "stream",
     "text": [
      "[[ 0.97517033 -0.19866933 -0.0978434   0.5       ]\n",
      " [ 0.153792    0.28962948  0.94470249  0.        ]\n",
      " [-0.15934508 -0.93629336  0.31299183  0.        ]\n",
      " [ 0.          0.          0.          1.        ]]\n"
     ]
    }
   ],
   "source": [
    "T = transl(0.5, 0.0, 0.0) @ rpy2tr(0.1, 0.2, 0.3, order='xyz') @ trotx(-90, 'deg')\n",
    "print(T)"
   ]
  },
  {
   "cell_type": "code",
   "execution_count": 16,
   "id": "9e4b2281",
   "metadata": {},
   "outputs": [
    {
     "name": "stdout",
     "output_type": "stream",
     "text": [
      "   0.9752   -0.1987   -0.09784   0.5       \n",
      "   0.1538    0.2896    0.9447    0         \n",
      "  -0.1593   -0.9363    0.313     0         \n",
      "   0         0         0         1         \n",
      "\n",
      "[ 1.67399895  1.25245482 -1.4022243 ]\n",
      "[[ 0.97517033 -0.19866933 -0.0978434 ]\n",
      " [ 0.153792    0.28962948  0.94470249]\n",
      " [-0.15934508 -0.93629336  0.31299183]]\n",
      "[0.5 0.  0. ]\n"
     ]
    }
   ],
   "source": [
    "T = SE3(0.5, 0.0, 0.0) * SE3.RPY([0.1, 0.2, 0.3],order='xyz') * SE3.Rx(-90, unit='deg')\n",
    "print(T)\n",
    "print(T.eul())\n",
    "print(T.R)\n",
    "print(T.t)"
   ]
  },
  {
   "cell_type": "code",
   "execution_count": null,
   "id": "747bd33c",
   "metadata": {},
   "outputs": [],
   "source": []
  }
 ],
 "metadata": {
  "kernelspec": {
   "display_name": "Python 3 (ipykernel)",
   "language": "python",
   "name": "python3"
  },
  "language_info": {
   "codemirror_mode": {
    "name": "ipython",
    "version": 3
   },
   "file_extension": ".py",
   "mimetype": "text/x-python",
   "name": "python",
   "nbconvert_exporter": "python",
   "pygments_lexer": "ipython3",
   "version": "3.8.10"
  }
 },
 "nbformat": 4,
 "nbformat_minor": 5
}
